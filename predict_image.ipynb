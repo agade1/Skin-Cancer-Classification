{
 "cells": [
  {
   "cell_type": "code",
   "execution_count": null,
   "metadata": {},
   "outputs": [
    {
     "name": "stdout",
     "output_type": "stream",
     "text": [
      "Reading image\n",
      "[ 6  7  5 ..., 14 19 16]\n",
      "INFO:tensorflow:Restoring parameters from /Users/amolgade/PycharmProjects/tensor-mole-classifier/skin.ckpt\n",
      "Model restored.\n",
      "Initialized\n",
      "[1]\n"
     ]
    }
   ],
   "source": [
    "import os\n",
    "import tensorflow as tf\n",
    "import sys\n",
    "import urllib\n",
    "import numpy as np\n",
    "import pdb\n",
    "import dataset\n",
    "# image dimensions (only squares for now)\n",
    "img_size = 128\n",
    "# Number of color channels for the images: 1 channel for gray-scale.\n",
    "num_channels = 3\n",
    "# Size of image when flattened to a single dimension\n",
    "img_size_flat = img_size * img_size * num_channels\n",
    "#'/Users/amolgade/PycharmProjects/tensor-mole-classifier-master/dataset/processedDataset'\n",
    "predict_path='/Users/amolgade/PycharmProjects/Skin-Cancer-Classification/dataset/positive/1.jpg'\n",
    "images = dataset.read_individual_image(predict_path, 128)\n",
    "images = images.reshape( img_size_flat)\n",
    "print (images)\n",
    "with tf.Session() as session:\n",
    "    model_saver = tf.train.import_meta_graph('skin.meta')\n",
    "    model_saver.restore(session, os.path.join(os.getcwd(), 'skin.ckpt'))\n",
    "    print(\"Model restored.\") \n",
    "    print('Initialized')\n",
    "    logits = predict_op = tf.get_collection(\"logits\")[0]\n",
    "    classification = session.run(tf.argmax(logits, 1), feed_dict= {\"x:0\": [images]})\n",
    "    print(classification)"
   ]
  },
  {
   "cell_type": "code",
   "execution_count": null,
   "metadata": {
    "collapsed": true
   },
   "outputs": [],
   "source": []
  }
 ],
 "metadata": {
  "kernelspec": {
   "display_name": "Python 2",
   "language": "python",
   "name": "python2"
  },
  "language_info": {
   "codemirror_mode": {
    "name": "ipython",
    "version": 2
   },
   "file_extension": ".py",
   "mimetype": "text/x-python",
   "name": "python",
   "nbconvert_exporter": "python",
   "pygments_lexer": "ipython2",
   "version": "2.7.10"
  }
 },
 "nbformat": 4,
 "nbformat_minor": 2
}
